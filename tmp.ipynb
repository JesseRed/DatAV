{
 "cells": [
  {
   "cell_type": "code",
   "execution_count": null,
   "metadata": {},
   "outputs": [],
   "source": [
    "import csv\n",
    "\n",
    "with open('filename.csv', 'r') as file:\n",
    "    reader = csv.reader(file)\n",
    "    for row in reader:\n",
    "        print(row)\n",
    "\n",
    "\n",
    "# perform_preprocessing2 <-function(outdir, df_BD=NULL, datafilename = NULL,\n",
    "#                                   postfix=\"tmp\",inshiny = TRUE,\n",
    "#                                   istest = FALSE,\n",
    "#                                   datarootpath = g_datarootpath()){\n",
    "#   # Funktion um die DAten von Stefan und die Behavioralen Daten in\n",
    "#   # ein zur Weiterverarbeitung geeignetes Format zusammen zu bringen\n",
    "#   # uebergeben wird ein\n",
    "#   # outdir               ...  Verzeichnis in das geschrieben werden soll\n",
    "#   # df_BD (data.frame) mit dem inhalt des behavioralen csv\n",
    "#   # data_file (character) ... ein filename von dem Datenfile von Stefan das\n",
    "#   #                           weiter vorverarbeitet werden soll\n",
    "#   # postfix               ... ein individueller Name der Analyse\n",
    "#   #\n",
    "#   # Die Funktion legt am Ende in das Verzeichnis\n",
    "#   start_time <- Sys.time()\n",
    "#   cat(file = stderr(), paste0(\"Start perform_preprocessing\"))\n",
    "#   cat(file = stderr(), paste0(\"df_BD = \", head(df_BD)))\n",
    "#   cat(file = stderr(), paste0(\"outdir = \", outdir,\"\\n\"))\n",
    "\n",
    "\n",
    "#   if (is.null(datafilename)){datafilename =  \"./app/tests/testthat/data/MEG/export_conn_coh.json\"}\n",
    "#   data <- fromJSON(file = datafilename)\n",
    "\n",
    "\n",
    "#   if (is.null(data)){ data = fromJSON(file = \"./app/tests/testthat/data/MEG/export_conn_coh.json\")}\n",
    "#   #if (is.null(data)){ data = fromJSON(file = \"../dataVisdata/prepro/MEG/export_conn_coh.json\")}\n",
    "#   #data2$subjects= data$subjects[1:3]\n",
    "#   if (is.null(df_BD)){ df_BD = read.csv(file = \"./app/tests/testthat/data/MEG/bd.csv\", header = TRUE, sep = ';', check.names = FALSE)}\n",
    "#   #if (is.null(df_BD)){ df_BD = read.csv(file = \"../dataVisdata/prepro/MEG/bd.csv\", header = TRUE, sep = ';', check.names = FALSE)}\n",
    "# #  cat(file = stderr(), \"get_methodname\\n\")\n",
    "# #  cat(file = stderr(), paste0(\"class(data)=\",class(data), \"\\n\"))\n",
    "\n",
    "#   method <- get_methodname(data)\n",
    "\n",
    "#   outdir<- check_and_create_data_dir(method = method, postfix = postfix, datarootpath = datarootpath, istest = istest)\n",
    "\n",
    "#   # check for consistency and eleminate empty trials and frequencies\n",
    "#   data<-check_data_structure(data, df_BD, method)\n",
    "#   prepro_data <<- data\n",
    "#   prepro_df_BD <<- df_BD\n",
    "#   cat(file = stderr(), \"extract_data_array\\n\")\n",
    "#   print(head(df_BD))\n",
    "#   mdat <- extract_data_array(data, df_BD, method)\n",
    "\n",
    "#   cat(file = stderr(), \"create_new_data_structure\\n\")\n",
    "#   cat(file = stderr(), paste0(\"with nrow(df)=\", nrow(df_BD)))\n",
    "#   D <- create_new_data_structure(data, df_BD, mdat, method)\n",
    "\n",
    "#   cat(file = stderr(), \"save_data_structure\\n\")\n",
    "#   save_data_structure(outdir, D)\n",
    "#   cat(file = stderr(), \"preprocessing finished in \\n\")\n",
    "#   preprocessing_time = Sys.time()-start_time\n",
    "#   if (!(istest)){\n",
    "#     shinyalert(\"Yeaahhh!\", paste0(\"preprocessing finished afer \",round(preprocessing_time,3),\" sec.\"), type = \"success\")\n",
    "#   }\n",
    "# return(D)\n",
    "# }\n"
   ]
  },
  {
   "cell_type": "code",
   "execution_count": 1,
   "metadata": {},
   "outputs": [
    {
     "data": {
      "text/plain": [
       "'G:\\\\OneDrive\\\\Python\\\\VisMEG'"
      ]
     },
     "execution_count": 1,
     "metadata": {},
     "output_type": "execute_result"
    }
   ],
   "source": [
    "import os\n",
    "os.getcwd()"
   ]
  },
  {
   "cell_type": "code",
   "execution_count": 10,
   "metadata": {},
   "outputs": [
    {
     "name": "stdout",
     "output_type": "stream",
     "text": [
      "                    ID  Gruppe\n",
      "0  12201__1_flipped__1       1\n",
      "1  12201__1_flipped__2       1\n",
      "2          12202__1__1       1\n",
      "3          12202__1__2       1\n",
      "4  12204__1_flipped__1       1\n",
      "type(data)=<class 'dict'>\n",
      "subjects_id\n",
      "series_id\n",
      "channels\n",
      "trials\n",
      "type\n",
      "dimord\n",
      "subjects\n",
      "freq\n",
      "trials_label\n",
      "channelcmb\n"
     ]
    }
   ],
   "source": [
    "import pandas as pd\n",
    "import json\n",
    "fullfilename_csv = os.path.join('./','data_org','CD','export_subjects_fmri_corr_rep_measures_03.csv')\n",
    "fullfilename_json = os.path.join('./','data_org','CD','export_fmri_corr_rep_measures.json')\n",
    "df = pd.read_csv(fullfilename_csv, sep = '|', encoding='utf8', engine='python')\n",
    "print(df.head())\n",
    "with open(fullfilename_json) as f:\n",
    "    data = json.load(f)\n",
    "\n",
    "\n",
    "print(f\"type(data)={type(data)}\")\n",
    "for key in data:\n",
    "    print(f\"{key}\")"
   ]
  },
  {
   "cell_type": "code",
   "execution_count": null,
   "metadata": {},
   "outputs": [],
   "source": []
  }
 ],
 "metadata": {
  "kernelspec": {
   "display_name": "Python 3 (ipykernel)",
   "language": "python",
   "name": "python3"
  },
  "language_info": {
   "codemirror_mode": {
    "name": "ipython",
    "version": 3
   },
   "file_extension": ".py",
   "mimetype": "text/x-python",
   "name": "python",
   "nbconvert_exporter": "python",
   "pygments_lexer": "ipython3",
   "version": "3.9.7"
  }
 },
 "nbformat": 4,
 "nbformat_minor": 2
}
