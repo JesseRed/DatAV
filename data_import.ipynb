{
 "cells": [
  {
   "cell_type": "code",
   "execution_count": 1,
   "metadata": {},
   "outputs": [
    {
     "data": {
      "text/plain": [
       "'g:\\\\OneDrive\\\\Python\\\\VisMEG'"
      ]
     },
     "execution_count": 1,
     "metadata": {},
     "output_type": "execute_result"
    }
   ],
   "source": [
    "import os\n",
    "os.getcwd()"
   ]
  },
  {
   "cell_type": "code",
   "execution_count": 2,
   "metadata": {},
   "outputs": [
    {
     "name": "stdout",
     "output_type": "stream",
     "text": [
      "                    ID  Gruppe\n",
      "0  12201__1_flipped__1       1\n",
      "1  12201__1_flipped__2       1\n",
      "2          12202__1__1       1\n",
      "3          12202__1__2       1\n",
      "4  12204__1_flipped__1       1\n",
      "type(data)=<class 'dict'>\n",
      "subjects_id\n",
      "series_id\n",
      "channels\n",
      "trials\n",
      "type\n",
      "dimord\n",
      "subjects\n",
      "freq\n",
      "trials_label\n",
      "channelcmb\n"
     ]
    }
   ],
   "source": [
    "import pandas as pd\n",
    "import json\n",
    "fullfilename_csv = os.path.join('./','data_org','CD','export_subjects_fmri_corr_rep_measures_03.csv')\n",
    "fullfilename_json = os.path.join('./','data_org','CD','export_fmri_corr_rep_measures.json')\n",
    "df = pd.read_csv(fullfilename_csv, sep = '|', encoding='utf8', engine='python')\n",
    "print(df.head())\n",
    "with open(fullfilename_json) as f:\n",
    "    data = json.load(f)\n",
    "\n",
    "\n",
    "print(f\"type(data)={type(data)}\")\n",
    "for key in data:\n",
    "    print(f\"{key}\")"
   ]
  },
  {
   "cell_type": "code",
   "execution_count": null,
   "metadata": {},
   "outputs": [],
   "source": []
  }
 ],
 "metadata": {
  "kernelspec": {
   "display_name": "Python 3 (ipykernel)",
   "language": "python",
   "name": "python3"
  },
  "language_info": {
   "codemirror_mode": {
    "name": "ipython",
    "version": 3
   },
   "file_extension": ".py",
   "mimetype": "text/x-python",
   "name": "python",
   "nbconvert_exporter": "python",
   "pygments_lexer": "ipython3",
   "version": "3.9.7"
  }
 },
 "nbformat": 4,
 "nbformat_minor": 2
}
